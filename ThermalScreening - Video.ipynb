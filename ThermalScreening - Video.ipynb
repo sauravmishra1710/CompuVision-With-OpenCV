{
 "cells": [
  {
   "cell_type": "code",
   "execution_count": 15,
   "metadata": {},
   "outputs": [],
   "source": [
    "import numpy as np\n",
    "import cv2\n",
    "\n",
    "cap = cv2.VideoCapture(\"Data/test_seq1_green.mp4\")\n",
    "cv2.namedWindow(winname='Thermal_Screening')\n",
    "\n",
    "frameTime = 15\n",
    "window_name = 'Thermal_Screening'\n",
    "\n",
    "while(True):\n",
    "    \n",
    "    # read the video frame-by-frame.\n",
    "    ret, frame = cap.read()\n",
    "    \n",
    "    # get the binary threshold version of the image.\n",
    "    gray = cv2.cvtColor(frame, cv2.COLOR_BGR2GRAY)\n",
    "    heatmap = cv2.applyColorMap(gray, cv2.COLORMAP_HOT)\n",
    "    ret, binary_thresh = cv2.threshold(gray, 200, 255, cv2.THRESH_BINARY)\n",
    "    \n",
    "    # remove additional noise by opening up the current frame.\n",
    "    # morphological erosion followed by dilation.\n",
    "    kernel = np.ones((5, 5), np.uint8)\n",
    "    eroded = cv2.erode(binary_thresh, kernel, iterations=1)\n",
    "    dilated = cv2.dilate(eroded, kernel, iterations=1)\n",
    "    \n",
    "    # find all the contours in the current frame\n",
    "    contours, _ = cv2.findContours(dilated, 1, 2)\n",
    "    \n",
    "    for contour in contours:\n",
    "        # rectangle over each contour\n",
    "        x, y, w, h = cv2.boundingRect(contour)\n",
    "        # Draw rectangles for visualisation\n",
    "        image_with_rectangles = cv2.rectangle(heatmap, (x, y), (x+w, y+h), (0, 255, 0), 2)\n",
    "\n",
    "     # Display the resulting frame\n",
    "    cv2.imshow(window_name, heatmap)\n",
    "    if cv2.waitKey(frameTime) & 0xFF == ord('q'):\n",
    "        break\n",
    "\n",
    "    # Closing the Window with the click of the X Button.\n",
    "    # https://stackoverflow.com/questions/35003476/opencv-python-how-to-detect-if-a-window-is-closed/\n",
    "    # https://github.com/sauravmishra1710/OpenCV-Playground/blob/master/User%20Interaction%20--%20OpenCV.ipynb\n",
    "    if cv2.getWindowProperty(window_name, cv2.WND_PROP_VISIBLE) < 1:        \n",
    "        break\n",
    "    \n",
    "\n",
    "# When everything done, release the capture\n",
    "cap.release()\n",
    "cv2.destroyAllWindows()"
   ]
  }
 ],
 "metadata": {
  "kernelspec": {
   "display_name": "'Python Interactive'",
   "language": "python",
   "name": "8a5f5495-eeb2-4b7a-aa82-13965b3179d6"
  },
  "language_info": {
   "codemirror_mode": {
    "name": "ipython",
    "version": 3
   },
   "file_extension": ".py",
   "mimetype": "text/x-python",
   "name": "python",
   "nbconvert_exporter": "python",
   "pygments_lexer": "ipython3",
   "version": "3.7.0"
  }
 },
 "nbformat": 4,
 "nbformat_minor": 2
}
