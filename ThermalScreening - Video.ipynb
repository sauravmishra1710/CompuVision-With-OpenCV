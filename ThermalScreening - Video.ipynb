{
 "cells": [
  {
   "cell_type": "markdown",
   "metadata": {},
   "source": [
    "# Thermal Imaging\n",
    "\n",
    "Thermal imaging cameras are devices that translate thermal energy into visible light in order to analyze a particular object or scene. Thermal images can be used for immediate diagnosis or processed through specialized software for further evaluation, accuracy and report output. Thermal imaging cameras take measuring temperature to the next level; instead of getting a number for the temperature you get a picture showing the temperature differences of objects within the image/surface being examined.\n",
    "\n",
    "## What Do Thermal Imaging Cameras See?\n",
    "\n",
    "Visible light is what we see around us every day and is the only part of the electromagnetic spectrum that are visible to human eyes. Visible light only takes up a small area in the electromagnetic spectrum and **infrared radiation (IR)** represents a larger percentage. Viewing IR region of the spectrum requires specialized equipments.\n",
    "\n",
    "All objects absorb, reflect and transmit energy at different levels. Different materials will give off heat or cold energy at different rates. It’s this energy that can be detected by infrared equipment and displayed as images. Such devices will only display a color thermal image of anything that is either above or below the selected temperature threshold. This energy from an object is also referred to as the **“heat signature”**, and the quantity of radiation emitted tends to be proportional to the overall heat of the object.\n",
    "\n",
    "In general, thermal images are grayscale: with white representing heat, black representing colder regions, and various shades of grey indicating gradients of temperatures between the two. However, newer models of thermal imaging cameras actually add colour to the images they produce, in order to help users better identify distinct objects more clearly – using colours such as orange, blue, yellow, red and purple.\n",
    "\n",
    "## Applications of Thermal Imaging\n",
    "\n",
    "1. **Electrical maintenance** - Power line technicians use thermal imaging to locate and pinpoint joints and parts that are at risk of overheating as they’re already emitting more heat than the stronger sections. \n",
    "2. **Plumbing activity** use thermal imagers to inspect sites of possible leaks, mainly through walls and pipes. \n",
    "3. **Mechanical and building construction** technicians who work with thermal insulation use imaging to quickly identify leaks, which is important to maintain efficient temperature regulation in a building.\n",
    "4. **Healthcare and medicine** also have practical uses, such as to spot fevers and temperature anomalies. This has proven to be especially important in airports where these thermal imaging cameras can quickly and accurately scan all incoming or outgoing passengers for higher temperatures, which was crucial during recent outbreaks of diseases like SARS and Ebola. Additionally, thermal imagers have been proven to help diagnose a range of disorders associated with the neck, back and limbs, as well as circulatory problems.\n",
    "5. **Science and research** are undoubtedly sectors that draw significant benefits from using thermal imagers, for accurate and precise visualisations of heat patterns.\n",
    "\n",
    "**Ref:** \n",
    "\n",
    "[1] https://www.grainger.com/know-how/equipment-information/kh-thermal-imaging-applications-uses-features-345-qt\n",
    "\n",
    "[2] https://www.pyrosales.com.au/blog/thermal-imaging/thermal-imaging-where-is-it-used"
   ]
  },
  {
   "cell_type": "markdown",
   "metadata": {},
   "source": [
    "### Data\n",
    "\n",
    "The video feed and images used in this notebook is taken from http://csr.bu.edu/BU-TIV/BUTIV.html"
   ]
  },
  {
   "cell_type": "code",
   "execution_count": 1,
   "metadata": {},
   "outputs": [],
   "source": [
    "import numpy as np\n",
    "import cv2\n",
    "\n",
    "cap = cv2.VideoCapture(\"Data/test_seq1_green.mp4\")\n",
    "cv2.namedWindow(winname='Thermal_Screening')\n",
    "\n",
    "frameTime = 15 # to slowdown the video playback speed\n",
    "window_name = 'Thermal_Screening' # window name\n",
    "\n",
    "while(True):\n",
    "    \n",
    "    # read the video frame-by-frame.\n",
    "    ret, frame = cap.read()\n",
    "    \n",
    "    # get the binary threshold version of the image.\n",
    "    gray = cv2.cvtColor(frame, cv2.COLOR_BGR2GRAY)\n",
    "    heatmap = cv2.applyColorMap(gray, cv2.COLORMAP_HOT)\n",
    "    ret, binary_thresh = cv2.threshold(gray, 200, 255, cv2.THRESH_BINARY)\n",
    "    \n",
    "    # remove additional noise by opening up the current frame.am\n",
    "    # morphological erosion followed by dilation.\n",
    "    kernel = np.ones((5, 5), np.uint8)\n",
    "    eroded = cv2.erode(binary_thresh, kernel, iterations=1)\n",
    "    dilated = cv2.dilate(eroded, kernel, iterations=1)\n",
    "    \n",
    "    # find all the contours in the current frame\n",
    "    contours, _ = cv2.findContours(dilated, 1, 2)\n",
    "    \n",
    "    for contour in contours:\n",
    "        # rectangle over each contour\n",
    "        x, y, w, h = cv2.boundingRect(contour)\n",
    "        # Draw rectangles for visualisation\n",
    "        image_with_rectangles = cv2.rectangle(heatmap, (x, y), (x+w, y+h), (0, 255, 0), 2)\n",
    "\n",
    "     # Display the resulting frame\n",
    "    cv2.imshow(window_name, heatmap)\n",
    "    if cv2.waitKey(frameTime) & 0xFF == ord('q'):\n",
    "        break\n",
    "\n",
    "    # Closing the Window with the click of the X Button.\n",
    "    # https://stackoverflow.com/questions/35003476/opencv-python-how-to-detect-if-a-window-is-closed/\n",
    "    # https://github.com/sauravmishra1710/OpenCV-Playground/blob/master/User%20Interaction%20--%20OpenCV.ipynb\n",
    "    if cv2.getWindowProperty(window_name, cv2.WND_PROP_VISIBLE) < 1:        \n",
    "        break\n",
    "    \n",
    "\n",
    "# When everything done, release the capture\n",
    "cap.release()\n",
    "cv2.destroyAllWindows()"
   ]
  },
  {
   "cell_type": "markdown",
   "metadata": {},
   "source": [
    "**Thermal conversion for Images** @ https://github.com/sauravmishra1710/OpenCV-Playground/blob/master/ThermalScreening%20-%20Images.ipynb"
   ]
  }
 ],
 "metadata": {
  "kernelspec": {
   "display_name": "'Python Interactive'",
   "language": "python",
   "name": "8a5f5495-eeb2-4b7a-aa82-13965b3179d6"
  },
  "language_info": {
   "codemirror_mode": {
    "name": "ipython",
    "version": 3
   },
   "file_extension": ".py",
   "mimetype": "text/x-python",
   "name": "python",
   "nbconvert_exporter": "python",
   "pygments_lexer": "ipython3",
   "version": "3.7.0"
  }
 },
 "nbformat": 4,
 "nbformat_minor": 2
}
