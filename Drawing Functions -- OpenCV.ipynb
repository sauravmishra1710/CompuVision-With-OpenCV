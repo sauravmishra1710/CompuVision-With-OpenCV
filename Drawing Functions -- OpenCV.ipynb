{
 "cells": [
  {
   "cell_type": "markdown",
   "metadata": {},
   "source": [
    "\n",
    "# Basics of OpenCV\n",
    "\n",
    "**Saurav Mishra**\n",
    "\n",
    "## Drawing on Images\n",
    "\n",
    "## Objective\n",
    "Learn to draw different geometric shapes with OpenCV\n",
    "You will learn these functions : cv.line(), cv.circle() , cv.rectangle(), cv.ellipse(), cv.putText() etc.\n",
    "\n",
    "## Code\n",
    "Some common arguments used in code as below:\n",
    "\n",
    "1. **img** : The image where you want to draw the shapes\n",
    "2. **color** : Color of the shape. for BGR, pass it as a tuple, eg: (255,0,0) for blue. For grayscale, just pass the scalar value.\n",
    "3. **thickness** : Thickness of the line or circle etc. If -1 is passed for closed figures like circles, it will fill the shape. default thickness = 1\n",
    "4. **lineType** : Type of line, whether 8-connected, anti-aliased line etc. By default, it is 8-connected. cv.LINE_AA gives anti-aliased line which looks great for curves.\n",
    "\n",
    "    \n",
    "The lineType parameter controls the quality of rendering. When lineType is set to CV_AA, anti-aliased ( smooth ) lines \n",
    "are drawn. Type of line, whether 8-connected, anti-aliased line etc. By default, it is 8-connected. cv2.LINE_AA gives \n",
    "anti-aliased line which looks great for curves.\n",
    "\n",
    "\n",
    "We will use a blank image with white background to draw and experiment with the various different shapes."
   ]
  },
  {
   "cell_type": "code",
   "execution_count": 1,
   "metadata": {},
   "outputs": [],
   "source": [
    "# Import the require libraries\n",
    "\n",
    "import numpy as np\n",
    "import matplotlib.pyplot as plt\n",
    "%matplotlib inline\n",
    "import cv2\n",
    "import math"
   ]
  },
  {
   "cell_type": "markdown",
   "metadata": {},
   "source": [
    "## Drawing a Line\n",
    "\n",
    "The function line draws the line segment between pt1 and pt2 points in the image. The line is clipped by the image boundaries.\n",
    "\n",
    "    @param img Image.\n",
    "    @param pt1 First point of the line segment.\n",
    "    @param pt2 Second point of the line segment.\n",
    "    @param color Line color.\n",
    "    @param thickness Line thickness.\n",
    "    @param lineType Type of the line. See #LineTypes.\n",
    "    @param shift Number of fractional bits in the point coordinates."
   ]
  },
  {
   "cell_type": "code",
   "execution_count": 2,
   "metadata": {},
   "outputs": [
    {
     "data": {
      "text/plain": [
       "<matplotlib.image.AxesImage at 0x29033e41588>"
      ]
     },
     "execution_count": 2,
     "metadata": {},
     "output_type": "execute_result"
    },
    {
     "data": {
      "image/png": "[encoded data removed]",
      "text/plain": [
       "<Figure size 432x288 with 1 Axes>"
      ]
     },
     "metadata": {
      "needs_background": "light"
     },
     "output_type": "display_data"
    }
   ],
   "source": [
    "# Initialize a image with white background\n",
    "\n",
    "blank_img = 255 * np.ones(shape=(512,512,3), dtype=np.int16)\n",
    "plt.imshow(blank_img)"
   ]
  },
  {
   "cell_type": "code",
   "execution_count": 3,
   "metadata": {},
   "outputs": [
    {
     "data": {
      "text/plain": [
       "<matplotlib.image.AxesImage at 0x29033edbb70>"
      ]
     },
     "execution_count": 3,
     "metadata": {},
     "output_type": "execute_result"
    },
    {
     "data": {
      "image/png": "[encoded data removed]",
      "text/plain": [
       "<Figure size 432x288 with 1 Axes>"
      ]
     },
     "metadata": {
      "needs_background": "light"
     },
     "output_type": "display_data"
    }
   ],
   "source": [
    "# Draw a diagonal blue line with thickness of 3 px\n",
    "\n",
    "cv2.line(blank_img ,pt1=(0,0), pt2=(511,511), color=(0, 0, 255), thickness=3, )\n",
    "plt.imshow(blank_img)"
   ]
  },
  {
   "cell_type": "code",
   "execution_count": 4,
   "metadata": {},
   "outputs": [
    {
     "data": {
      "text/plain": [
       "<matplotlib.image.AxesImage at 0x290451adcf8>"
      ]
     },
     "execution_count": 4,
     "metadata": {},
     "output_type": "execute_result"
    },
    {
     "data": {
      "image/png": "[encoded data removed]",
      "text/plain": [
       "<Figure size 432x288 with 1 Axes>"
      ]
     },
     "metadata": {
      "needs_background": "light"
     },
     "output_type": "display_data"
    }
   ],
   "source": [
    "# Draw a straight red line running through the middle of the cutting the image horizonally into 2 halves.\n",
    "\n",
    "cv2.line(blank_img ,pt1=(0,250), pt2=(512,250), color=(255, 0, 0), thickness=3)\n",
    "plt.imshow(blank_img)"
   ]
  },
  {
   "cell_type": "markdown",
   "metadata": {},
   "source": [
    "## Drawing a Rectangle\n",
    "\n",
    "We would need top-left corner and bottom-right corner of rectangle.\n",
    "\n",
    "The function rectangle draws a rectangle outline or a filled rectangle whose two opposite corners are pt1 and pt2.\n",
    "\n",
    "    @param img Image.\n",
    "    @param pt1 Vertex of the rectangle.\n",
    "    @param pt2 Vertex of the rectangle opposite to pt1 .\n",
    "    @param color Rectangle color or brightness (grayscale image).\n",
    "    @param thickness Thickness of lines that make up the rectangle. Negative values, like #FILLED, mean that the function\n",
    "    has to draw a filled rectangle.\n",
    "    @param lineType Type of the line. See #LineTypes\n",
    "    "
   ]
  },
  {
   "cell_type": "code",
   "execution_count": 5,
   "metadata": {},
   "outputs": [
    {
     "data": {
      "text/plain": [
       "<matplotlib.image.AxesImage at 0x29045214518>"
      ]
     },
     "execution_count": 5,
     "metadata": {},
     "output_type": "execute_result"
    },
    {
     "data": {
      "image/png": "[encoded data removed]",
      "text/plain": [
       "<Figure size 432x288 with 1 Axes>"
      ]
     },
     "metadata": {
      "needs_background": "light"
     },
     "output_type": "display_data"
    }
   ],
   "source": [
    "# Initialize a image with white background\n",
    "\n",
    "blank_img = 255 * np.ones(shape=(512,512,3), dtype=np.int16)\n",
    "\n",
    "# pt1 is the top-left of the rectangle\n",
    "# pt2 is the bottom right of the rectangle\n",
    "\n",
    "cv2.rectangle(blank_img, pt1=(100,100), pt2=(400,200), color=(180,129,201), thickness=3) # hollow rect\n",
    "\n",
    "cv2.rectangle(blank_img, pt1=(100,350), pt2=(400,450), color=(100,129,101), thickness=-1) # solid rect\n",
    "\n",
    "plt.imshow(blank_img)"
   ]
  },
  {
   "cell_type": "markdown",
   "metadata": {},
   "source": [
    "## Drawing a Circle\n",
    "\n",
    "We would need the center coordinates and radius of the circle.\n",
    "\n",
    "The function circle draws a simple or filled circle with a given center and radius.\n",
    "\n",
    "    @param img Image where the circle is drawn.\n",
    "    @param center Center of the circle.\n",
    "    @param radius Radius of the circle.\n",
    "    @param color Circle color.\n",
    "    @param thickness Thickness of the circle outline, if positive. Negative values, like #FILLED, mean that a filled circle \n",
    "    is to be drawn.\n",
    "    @param lineType Type of the circle boundary. See #LineTypes\n",
    "    @param shift Number of fractional bits in the coordinates of the center and in the radius value."
   ]
  },
  {
   "cell_type": "code",
   "execution_count": 6,
   "metadata": {},
   "outputs": [
    {
     "data": {
      "text/plain": [
       "<matplotlib.image.AxesImage at 0x2904526f390>"
      ]
     },
     "execution_count": 6,
     "metadata": {},
     "output_type": "execute_result"
    },
    {
     "data": {
      "image/png": "[encoded data removed]",
      "text/plain": [
       "<Figure size 432x288 with 1 Axes>"
      ]
     },
     "metadata": {
      "needs_background": "light"
     },
     "output_type": "display_data"
    }
   ],
   "source": [
    "# Initialize a image with white background\n",
    "\n",
    "blank_img = 255 * np.ones(shape=(512,512,3), dtype=np.int16)\n",
    "\n",
    "cv2.circle(img=blank_img, center=(250,100), radius=80, color=(255,0,0), thickness=3) # Hollow Circle\n",
    "\n",
    "cv2.circle(img=blank_img, center=(250, 400), radius=80, color=(150,125,200), thickness=-1) # Filled Circle\n",
    "\n",
    "plt.imshow(blank_img)"
   ]
  },
  {
   "cell_type": "markdown",
   "metadata": {},
   "source": [
    "Circle can also be drawn using the ellipse function from OpenCV. The details of the ellipse function are discussed in the later section. A sample code showing how to draw a circle is implemented below -\n",
    "\n",
    "**Circles are special case of ellipse where the major and the minor axes are equal.**"
   ]
  },
  {
   "cell_type": "code",
   "execution_count": 7,
   "metadata": {},
   "outputs": [
    {
     "data": {
      "text/plain": [
       "<matplotlib.image.AxesImage at 0x290452ce0b8>"
      ]
     },
     "execution_count": 7,
     "metadata": {},
     "output_type": "execute_result"
    },
    {
     "data": {
      "image/png": "[encoded data removed]",
      "text/plain": [
       "<Figure size 432x288 with 1 Axes>"
      ]
     },
     "metadata": {
      "needs_background": "light"
     },
     "output_type": "display_data"
    }
   ],
   "source": [
    "blank_img = 255 * np.ones(shape=(512,512,3), dtype=np.int16)\n",
    "\n",
    "cv2.ellipse(blank_img, center=(250,250), axes=(100,100), angle=0, startAngle=0, endAngle=360, color=(255,0,0), thickness=-1)\n",
    "\n",
    "plt.imshow(blank_img)"
   ]
  },
  {
   "cell_type": "markdown",
   "metadata": {},
   "source": [
    "## Drawing Polygons\n",
    "\n",
    "The function polylines draws one or more polygonal curves.\n",
    "\n",
    "    @param img Image.\n",
    "    @param pts Array of polygonal curves.\n",
    "    @param isClosed Flag indicating whether the drawn polylines are closed or not. If they are closed, the function draws \n",
    "    a line from the last vertex of each curve to its first vertex.\n",
    "    @param color Polyline color.\n",
    "    @param thickness Thickness of the polyline edges.\n",
    "    @param lineType Type of the line segments. See #LineTypes\n",
    "    @param shift Number of fractional bits in the vertex coordinates.\n"
   ]
  },
  {
   "cell_type": "code",
   "execution_count": 8,
   "metadata": {},
   "outputs": [
    {
     "data": {
      "text/plain": [
       "<matplotlib.image.AxesImage at 0x2904532d470>"
      ]
     },
     "execution_count": 8,
     "metadata": {},
     "output_type": "execute_result"
    },
    {
     "data": {
      "image/png": "[encoded data removed]",
      "text/plain": [
       "<Figure size 432x288 with 1 Axes>"
      ]
     },
     "metadata": {
      "needs_background": "light"
     },
     "output_type": "display_data"
    }
   ],
   "source": [
    "# Initialize a image with white background\n",
    "\n",
    "blank_img = 255 * np.ones(shape=(512,512,3), dtype=np.int16)\n",
    "\n",
    "plt.imshow(blank_img)"
   ]
  },
  {
   "cell_type": "code",
   "execution_count": 9,
   "metadata": {},
   "outputs": [
    {
     "name": "stdout",
     "output_type": "stream",
     "text": [
      "Shape of Vertices:  (4, 2)\n"
     ]
    },
    {
     "data": {
      "text/plain": [
       "array([[100, 300],\n",
       "       [200, 200],\n",
       "       [400, 300],\n",
       "       [200, 400]])"
      ]
     },
     "execution_count": 9,
     "metadata": {},
     "output_type": "execute_result"
    }
   ],
   "source": [
    "# To draw a polygon we will first define the vertices.\n",
    "# OpenCV function PolyLines expects a list of vertices to draw a polygon.\n",
    "\n",
    "vertices = np.array([[100,300],[200,200],[400,300],[200,400]], np.int32)\n",
    "print(\"Shape of Vertices: \", vertices.shape)\n",
    "vertices"
   ]
  },
  {
   "cell_type": "code",
   "execution_count": 10,
   "metadata": {},
   "outputs": [
    {
     "name": "stdout",
     "output_type": "stream",
     "text": [
      "Shape of Vertices after conversion:  (4, 1, 2)\n"
     ]
    },
    {
     "data": {
      "text/plain": [
       "array([[[100, 300]],\n",
       "\n",
       "       [[200, 200]],\n",
       "\n",
       "       [[400, 300]],\n",
       "\n",
       "       [[200, 400]]])"
      ]
     },
     "execution_count": 10,
     "metadata": {},
     "output_type": "execute_result"
    }
   ],
   "source": [
    "# Now as we get the shape of the vertices above as 2D, OpenCV is very specific when it comes to the shapes.\n",
    "# OpenCV needs the vertices in a 3 dimension corresponding to the 3 color channels.\n",
    "# So we need to reshape the vertices into 3D\n",
    "\n",
    "poly_vertives = vertices.reshape((-1,1,2)) # This just adds an additional pair of vertices to support the color channels.\n",
    "# An additional dimension - 1\n",
    "\n",
    "# What the above line means is that, I need a matrix with unknown number of rows but a single column and each element with 2 sub-elements. \n",
    "# Now numpy internally calculates the size of unknown and automatically creates a matrix for you. \n",
    "# It is just a fancy way of doing pts.reshape((4,1,2))\n",
    "# https://stackoverflow.com/questions/51723910/at-what-situation-points-need-to-be-reshaped-like-reshape-1-1-2-in-python-open/51724120\n",
    "\n",
    "print(\"Shape of Vertices after conversion: \",poly_vertives.shape)\n",
    "poly_vertives"
   ]
  },
  {
   "cell_type": "code",
   "execution_count": 11,
   "metadata": {},
   "outputs": [
    {
     "data": {
      "text/plain": [
       "<matplotlib.image.AxesImage at 0x2904538c6a0>"
      ]
     },
     "execution_count": 11,
     "metadata": {},
     "output_type": "execute_result"
    },
    {
     "data": {
      "image/png": "[encoded data removed]",
      "text/plain": [
       "<Figure size 432x288 with 1 Axes>"
      ]
     },
     "metadata": {
      "needs_background": "light"
     },
     "output_type": "display_data"
    }
   ],
   "source": [
    "cv2.polylines(blank_img, [poly_vertives], isClosed=False, color=(255,0,0), thickness=5)\n",
    "\n",
    "plt.imshow(blank_img)"
   ]
  },
  {
   "cell_type": "code",
   "execution_count": 12,
   "metadata": {},
   "outputs": [
    {
     "data": {
      "text/plain": [
       "<matplotlib.image.AxesImage at 0x290453e6f28>"
      ]
     },
     "execution_count": 12,
     "metadata": {},
     "output_type": "execute_result"
    },
    {
     "data": {
      "image/png": "[encoded data removed]",
      "text/plain": [
       "<Figure size 432x288 with 1 Axes>"
      ]
     },
     "metadata": {
      "needs_background": "light"
     },
     "output_type": "display_data"
    }
   ],
   "source": [
    "# Initialize a image with white background\n",
    "\n",
    "blank_img = 255 * np.ones(shape=(512,512,3), dtype=np.int16)\n",
    "\n",
    "vertices = np.array([[100,300],[200,200],[400,300],[200,400]],np.int32)\n",
    "pts = vertices.reshape((-1,1,2))\n",
    "\n",
    "cv2.polylines(blank_img, [pts], isClosed=True, color=(180,50,100), thickness=3)\n",
    "\n",
    "plt.imshow(blank_img)"
   ]
  },
  {
   "cell_type": "markdown",
   "metadata": {},
   "source": [
    "**NOTE:** cv.polylines() can be used to draw multiple lines. Just create a list of all the lines you want to draw and pass it to the function. All lines will be drawn individually. It is a much better and faster way to draw a group of lines than calling cv.line() for each line.\n",
    "\n",
    "https://docs.opencv.org/master/dc/da5/tutorial_py_drawing_functions.html"
   ]
  },
  {
   "cell_type": "markdown",
   "metadata": {},
   "source": [
    "## Filled Polygons\n",
    "\n",
    "Fills the area bounded by one or more polygons. The function **fillPoly** fills an area bounded by several polygonal contours. The function can fill complex areas, for example, areas with holes, contours with self-intersections (some of their parts), and so forth.\n",
    " \n",
    "    @param img Image.\n",
    "    @param pts Array of polygons where each polygon is represented as an array of points.\n",
    "    @param color Polygon color.\n",
    "    @param lineType Type of the polygon boundaries. See #LineTypes\n",
    "    @param shift Number of fractional bits in the vertex coordinates.\n",
    "    @param offset Optional offset of all points of the contours."
   ]
  },
  {
   "cell_type": "code",
   "execution_count": 13,
   "metadata": {},
   "outputs": [
    {
     "data": {
      "text/plain": [
       "<matplotlib.image.AxesImage at 0x29045442cc0>"
      ]
     },
     "execution_count": 13,
     "metadata": {},
     "output_type": "execute_result"
    },
    {
     "data": {
      "image/png": "[encoded data removed]",
      "text/plain": [
       "<Figure size 432x288 with 1 Axes>"
      ]
     },
     "metadata": {
      "needs_background": "light"
     },
     "output_type": "display_data"
    }
   ],
   "source": [
    "blank_img = 255* np.ones((300, 300, 3), np.uint8)\n",
    "\n",
    "poly_points = np.array( [[[10,10],[100,10],[100,100],[50,150],[10,100]]], dtype=np.int32 )\n",
    "\n",
    "cv2.fillPoly(blank_img, poly_points, color=(255, 0, 0), lineType=cv2.LINE_8 )\n",
    "\n",
    "plt.imshow(blank_img)"
   ]
  },
  {
   "cell_type": "markdown",
   "metadata": {},
   "source": [
    "## Adding Text to Images\n",
    "\n",
    "To put texts in images, we need specify following things.\n",
    "\n",
    "    Text data that you want to write\n",
    "    Position coordinates of where you want put it (i.e. bottom-left corner where data starts).\n",
    "    Font type (Check cv.putText() docs for supported fonts)\n",
    "    Font Scale (specifies the size of font)\n",
    "    Regular things like color, thickness, lineType etc. For better look, lineType = cv.LINE_AA is recommended."
   ]
  },
  {
   "cell_type": "code",
   "execution_count": 14,
   "metadata": {},
   "outputs": [
    {
     "data": {
      "text/plain": [
       "<matplotlib.image.AxesImage at 0x290474c8160>"
      ]
     },
     "execution_count": 14,
     "metadata": {},
     "output_type": "execute_result"
    },
    {
     "data": {
      "image/png": "[encoded data removed]",
      "text/plain": [
       "<Figure size 432x288 with 1 Axes>"
      ]
     },
     "metadata": {
      "needs_background": "light"
     },
     "output_type": "display_data"
    }
   ],
   "source": [
    "# Initialize a image with white background\n",
    "\n",
    "blank_img = 255 * np.ones(shape=(512,512,3), dtype=np.int16)\n",
    "\n",
    "# pt1 is the top-left of the rectangle\n",
    "# pt2 is the bottom right of the rectangle\n",
    "\n",
    "cv2.rectangle(blank_img, pt1=(30,150), pt2=(480,350), color=(180,129,201), thickness=3) # hollow rect\n",
    "\n",
    "font = cv2.FONT_HERSHEY_COMPLEX_SMALL\n",
    "cv2.putText(blank_img, text='Hello OpenCV', org=(35,270), fontFace=font, fontScale= 2.8, color=(100,170,0), thickness=2, \n",
    "            lineType=cv2.LINE_AA)\n",
    "\n",
    "plt.imshow(blank_img)"
   ]
  },
  {
   "cell_type": "markdown",
   "metadata": {},
   "source": [
    "## Drawing an Ellipse\n",
    "\n",
    "To draw the ellipse, we need to pass several arguments.\n",
    "\n",
    "    The center location (x,y). \n",
    "    The axes lengths (major axis length, minor axis length) \n",
    "    Angle is the angle of rotation of ellipse in anti-clockwise direction. \n",
    "    startAngle and endAngle denotes the starting and ending of ellipse arc measured in clockwise direction from \n",
    "    major axis. i.e. giving values 0 and 360 gives the full ellipse. \n",
    "    For more details, check the documentation of cv.ellipse().\n",
    "    \n",
    "Understanding the Ellipse Axes and Angles: http://mathworld.wolfram.com/Ellipse.html\n",
    "    \n",
    "The function ellipse with more parameters draws an ellipse outline, a filled ellipse, an elliptic arc, or a filled ellipse sector. The drawing code uses general parametric form. A piecewise-linear curve is used to approximate the elliptic arc boundary. If you need more control of the ellipse rendering, you can retrieve the curve using **#ellipse2Poly** and then render it with #polylines or fill it with #fillPoly. If you use the first variant of the function and want to draw the whole ellipse, not an arc, pass `startAngle=0` and `endAngle=360`. If `startAngle` is greater than `endAngle`, they are swapped. "
   ]
  },
  {
   "cell_type": "code",
   "execution_count": 15,
   "metadata": {},
   "outputs": [
    {
     "data": {
      "text/plain": [
       "<matplotlib.image.AxesImage at 0x29047523160>"
      ]
     },
     "execution_count": 15,
     "metadata": {},
     "output_type": "execute_result"
    },
    {
     "data": {
      "image/png": "[encoded data removed]",
      "text/plain": [
       "<Figure size 432x288 with 1 Axes>"
      ]
     },
     "metadata": {
      "needs_background": "light"
     },
     "output_type": "display_data"
    }
   ],
   "source": [
    "# Initialize a image with white background\n",
    "blank_img = 255 * np.ones(shape=(512,512,3), dtype=np.int16)\n",
    "\n",
    "# half ellipse centered at (200,50)\n",
    "cv2.ellipse(blank_img, center=(250,100), axes=(200,50), angle=0, startAngle=0, endAngle=180, color=(255,0,0), thickness=-1)\n",
    "\n",
    "# full ellipse centered at (200,400)\n",
    "cv2.ellipse(blank_img, center=(250,400), axes=(200,50), angle=0, startAngle=0, endAngle=360, color=(255,0,0), thickness=-1)\n",
    "\n",
    "plt.imshow(blank_img)"
   ]
  },
  {
   "cell_type": "markdown",
   "metadata": {},
   "source": [
    "Now lets see how the startAngle and endAngle function with varying angles in the forming of an ellipse"
   ]
  },
  {
   "cell_type": "code",
   "execution_count": 16,
   "metadata": {},
   "outputs": [
    {
     "data": {
      "text/plain": [
       "<matplotlib.image.AxesImage at 0x29047588908>"
      ]
     },
     "execution_count": 16,
     "metadata": {},
     "output_type": "execute_result"
    },
    {
     "data": {
      "image/png": "[encoded data removed]",
      "text/plain": [
       "<Figure size 1080x1080 with 1 Axes>"
      ]
     },
     "metadata": {
      "needs_background": "light"
     },
     "output_type": "display_data"
    }
   ],
   "source": [
    "# Initialize a image with white background\n",
    "blank_img = 255 * np.ones(shape=(512,512,3), dtype=np.int16)\n",
    "\n",
    "# Initialize a figure of sixe (15, 15)\n",
    "fig = plt.figure(figsize=(15,15))\n",
    "ax = fig.add_subplot(111)\n",
    "\n",
    "# startAngle=0, endAngle=45\n",
    "cv2.ellipse(blank_img, center=(250,10), axes=(100,30), angle=0, startAngle=0, endAngle=45, color=(255,0,0), thickness=-1)\n",
    "\n",
    "# startAngle=0, endAngle=90\n",
    "cv2.ellipse(blank_img, center=(250,50), axes=(100,30), angle=0, startAngle=0, endAngle=90, color=(255,0,0), thickness=-1)\n",
    "\n",
    "# startAngle=0, endAngle=135\n",
    "cv2.ellipse(blank_img, center=(250,100), axes=(100,30), angle=0, startAngle=0, endAngle=135, color=(255,0,0), thickness=-1)\n",
    "\n",
    "# startAngle=0, endAngle=180\n",
    "cv2.ellipse(blank_img, center=(250,150), axes=(100,30), angle=0, startAngle=0, endAngle=180, color=(255,0,0), thickness=-1)\n",
    "\n",
    "# startAngle=0, endAngle=225\n",
    "cv2.ellipse(blank_img, center=(250,220), axes=(100,30), angle=0, startAngle=0, endAngle=225, color=(255,0,0), thickness=-1)\n",
    "\n",
    "# startAngle=0, endAngle=270\n",
    "cv2.ellipse(blank_img, center=(250,300), axes=(100,30), angle=0, startAngle=0, endAngle=270, color=(255,0,0), thickness=-1)\n",
    "\n",
    "# startAngle=0, endAngle=315\n",
    "cv2.ellipse(blank_img, center=(250,370), axes=(100,30), angle=0, startAngle=0, endAngle=315, color=(255,0,0), thickness=-1)\n",
    "\n",
    "# startAngle=0, endAngle=360\n",
    "cv2.ellipse(blank_img, center=(250,450), axes=(100,30), angle=0, startAngle=0, endAngle=360, color=(255,0,0), thickness=-1)\n",
    "\n",
    "ax.imshow(blank_img)"
   ]
  },
  {
   "cell_type": "markdown",
   "metadata": {},
   "source": [
    "## ellipse2Poly\n",
    "\n",
    "Approximates an elliptic arc with a polyline. The function ellipse2Poly computes the vertices of a polyline that approximates the specified elliptic arc. It is used by ellipse().\n",
    "\n",
    "Ref - https://docs.opencv.org/2.4/modules/core/doc/drawing_functions.html#ellipse2poly\n",
    "\n",
    "Python: cv2.ellipse2Poly(center, axes, angle, arcStart, arcEnd, delta) → pts\n",
    "\n",
    "**Parameters:**\n",
    "\n",
    "    center – Center of the arc.\n",
    "    axes – Half of the size of the ellipse main axes. See the ellipse() for details.\n",
    "    angle – Rotation angle of the ellipse in degrees. See the ellipse() for details.\n",
    "    arcStart – Starting angle of the elliptic arc in degrees.\n",
    "    arcEnd – Ending angle of the elliptic arc in degrees.\n",
    "    delta – Angle between the subsequent polyline vertices. It defines the approximation accuracy.\n",
    "    pts – Output vector of polyline vertices.\n"
   ]
  },
  {
   "cell_type": "code",
   "execution_count": 17,
   "metadata": {
    "scrolled": true
   },
   "outputs": [
    {
     "data": {
      "text/plain": [
       "<matplotlib.image.AxesImage at 0x290475d9be0>"
      ]
     },
     "execution_count": 17,
     "metadata": {},
     "output_type": "execute_result"
    },
    {
     "data": {
      "image/png": "[encoded data removed]",
      "text/plain": [
       "<Figure size 432x288 with 1 Axes>"
      ]
     },
     "metadata": {
      "needs_background": "light"
     },
     "output_type": "display_data"
    }
   ],
   "source": [
    "# Initialize a image with white background\n",
    "blank_img = 255 * np.ones(shape=(512,512,3), dtype=np.int16)\n",
    "\n",
    "# half ellipse centered at (250,100)\n",
    "poly_pts = cv2.ellipse2Poly(center=(250,100), axes=(200,50), angle=0, arcStart=0, arcEnd=180, delta=1)\n",
    "# print(\"Points approximated by ellipse2Poly:\", poly_pts)\n",
    "\n",
    "cv2.polylines(blank_img, [poly_pts], isClosed=True, color=(180,50,100), thickness=3)\n",
    "\n",
    "plt.imshow(blank_img)"
   ]
  },
  {
   "cell_type": "markdown",
   "metadata": {},
   "source": [
    "# Some Common Coding Implementation\n",
    "\n",
    "## 1. Triangle with centroid and the median lines\n",
    "\n",
    "A centroid of a triangle is the point where the three medians of the triangle meet. \n",
    "A median of a triangle is a line segment from one vertex to the mid point on the opposite side of the triangle. \n",
    "    \n",
    "The centroid is also called the center of gravity of the triangle. It can be found using the formula -\n",
    "\n",
    "Centroid(X, Y) = (x1 + x2 + x3//3, y1 + y2 + y3//3)"
   ]
  },
  {
   "cell_type": "code",
   "execution_count": 18,
   "metadata": {},
   "outputs": [
    {
     "data": {
      "text/plain": [
       "<matplotlib.image.AxesImage at 0x2904763b9e8>"
      ]
     },
     "execution_count": 18,
     "metadata": {},
     "output_type": "execute_result"
    },
    {
     "data": {
      "image/png": "[encoded data removed]",
      "text/plain": [
       "<Figure size 432x288 with 1 Axes>"
      ]
     },
     "metadata": {
      "needs_background": "light"
     },
     "output_type": "display_data"
    }
   ],
   "source": [
    "# Initialize a image with white background\n",
    "\n",
    "blank_img = 255 * np.ones(shape=(512,512,3), dtype=np.int16)\n",
    "\n",
    "vertices = np.array([[450, 400],[250,100],[50,400]], np.int32)\n",
    "tri_vertices = vertices.reshape((-1,1,2))\n",
    "\n",
    "cv2.polylines(blank_img, [tri_vertices], isClosed=True, color=(255,0,0), thickness=5)\n",
    "\n",
    "# draw the centroid on the window\n",
    "centroid = ((450+250+50)//3, (400+100+400)//3)    \n",
    "cv2.circle(blank_img, centroid, 7, (0, 0, 0), thickness=-1)\n",
    "\n",
    "# drawing the median lines\n",
    "# mid-point of triangle base\n",
    "baseline_midpoint = ((450-50)//2 + 50, 400)\n",
    "cv2.line(blank_img, pt1=(250,100), pt2=baseline_midpoint, color=(100, 200, 220), thickness=2) \n",
    "\n",
    "# mid-point of edge 1\n",
    "edge1_midpoint = ((450-250)//2 + 250, (400-100)//2 + 100)\n",
    "cv2.line(blank_img, pt1=(50,400), pt2=edge1_midpoint, color=(100, 200, 220), thickness=2) \n",
    "\n",
    "# mid-point of edge 2\n",
    "edge2_midpoint = ((250-50)//2 + 50, (400-100)//2 + 100)\n",
    "cv2.line(blank_img, pt1=(450,400), pt2=edge2_midpoint, color=(100, 200, 220), thickness=2) \n",
    "\n",
    "plt.imshow(blank_img)"
   ]
  },
  {
   "cell_type": "markdown",
   "metadata": {},
   "source": [
    "## 2. Concentric Circles"
   ]
  },
  {
   "cell_type": "code",
   "execution_count": 19,
   "metadata": {},
   "outputs": [
    {
     "data": {
      "text/plain": [
       "<matplotlib.image.AxesImage at 0x29047693cf8>"
      ]
     },
     "execution_count": 19,
     "metadata": {},
     "output_type": "execute_result"
    },
    {
     "data": {
      "image/png": "[encoded data removed]",
      "text/plain": [
       "<Figure size 432x288 with 1 Axes>"
      ]
     },
     "metadata": {
      "needs_background": "light"
     },
     "output_type": "display_data"
    }
   ],
   "source": [
    "# draw concentric circles\n",
    "\n",
    "blank_img = 255 * np.ones(shape=(512,512,3), dtype=np.int16)\n",
    "\n",
    "red = (255,0,0) # define the color\n",
    "\n",
    "# calculate the center point of image to get the center of the circle\n",
    "(centerX, centerY) = (blank_img.shape[1]//2, blank_img.shape[0]//2) # width, height \n",
    "\n",
    "for radius in range(0, 512, 25):\n",
    "    cv2.circle(blank_img, (centerX, centerY), radius, red, thickness=2)\n",
    "    \n",
    "plt.imshow(blank_img)"
   ]
  },
  {
   "cell_type": "markdown",
   "metadata": {},
   "source": [
    "## 3. Random Colored Circles"
   ]
  },
  {
   "cell_type": "code",
   "execution_count": 20,
   "metadata": {},
   "outputs": [
    {
     "data": {
      "text/plain": [
       "<matplotlib.image.AxesImage at 0x290476eaf60>"
      ]
     },
     "execution_count": 20,
     "metadata": {},
     "output_type": "execute_result"
    },
    {
     "data": {
      "image/png": "[encoded data removed]",
      "text/plain": [
       "<Figure size 432x288 with 1 Axes>"
      ]
     },
     "metadata": {
      "needs_background": "light"
     },
     "output_type": "display_data"
    }
   ],
   "source": [
    "blank_img = 255 * np.ones(shape=(512,512,3), dtype=np.int16)\n",
    "\n",
    "for i in range(0, 10):\n",
    "    \n",
    "    # Generating a new radius every time\n",
    "    radius = np.random.randint(10, high = 200)\n",
    "    \n",
    "    # Generating a random color value every time\n",
    "    color = np.random.randint(0, high = 256, size = (3,)).tolist()\n",
    "    \n",
    "    # Generating a new center each time\n",
    "    (centerX, centerY) = np.random.randint(0, high = 512, size = (2,))\n",
    "    \n",
    "    cv2.circle(blank_img, (centerX, centerY), radius, color, -1)\n",
    "\n",
    "plt.imshow(blank_img)"
   ]
  },
  {
   "cell_type": "markdown",
   "metadata": {},
   "source": [
    "## 4. Drawing OpenCV Logo\n",
    "\n",
    "1. Try to create the logo of OpenCV using drawing functions available in OpenCV.\n",
    "    (https://docs.opencv.org/master/dc/da5/tutorial_py_drawing_functions.html_"
   ]
  },
  {
   "cell_type": "code",
   "execution_count": 21,
   "metadata": {},
   "outputs": [
    {
     "data": {
      "text/plain": [
       "<matplotlib.image.AxesImage at 0x2904774cc50>"
      ]
     },
     "execution_count": 21,
     "metadata": {},
     "output_type": "execute_result"
    },
    {
     "data": {
      "image/png": "[encoded data removed]",
      "text/plain": [
       "<Figure size 432x288 with 1 Axes>"
      ]
     },
     "metadata": {
      "needs_background": "light"
     },
     "output_type": "display_data"
    }
   ],
   "source": [
    "# Method 1\n",
    "\n",
    "blank_img = 255* np.ones((512, 512, 3), np.uint8)\n",
    "\n",
    "# Circle radius to draw around the vertices\n",
    "outer_Radius = 70\n",
    "inner_radius = 30\n",
    "\n",
    "angle = 60 # assuming the inner cut triangle to be equilateral\n",
    "\n",
    "distanceBetweenTheCircles = 180\n",
    "heightOfTheTriangle = 150 #int(d//2*math.sqrt(3)) - This formula is derived by equating (base*height)/2 = (sqrt(3)*a^2)/4\n",
    "\n",
    "red_circle = (256,128)\n",
    "green_circle = (red_circle[0]-distanceBetweenTheCircles//2, red_circle[1]+heightOfTheTriangle)\n",
    "blue_circle = (red_circle[0]+distanceBetweenTheCircles//2, red_circle[1]+heightOfTheTriangle)\n",
    "\n",
    "# print(\"red\",red_circle)\n",
    "# print(\"green\",green_circle)\n",
    "# print(\"blue\",blue_circle)\n",
    "\n",
    "red = (0, 0, 255)\n",
    "green = (0, 255, 0)\n",
    "blue = (255, 0, 0)\n",
    "black = (0, 0, 0)\n",
    "white = (255, 255, 255)\n",
    "\n",
    "thickness = -1\n",
    "\n",
    "cv2.circle(blank_img, red_circle, outer_Radius, red, thickness)\n",
    "cv2.circle(blank_img, green_circle, outer_Radius, green, thickness)\n",
    "cv2.circle(blank_img, blue_circle, outer_Radius, blue, thickness)\n",
    "\n",
    "cv2.circle(blank_img, red_circle, inner_radius, white, thickness)\n",
    "cv2.circle(blank_img, green_circle, inner_radius, white, thickness)\n",
    "cv2.circle(blank_img, blue_circle, inner_radius, white, thickness)\n",
    "\n",
    "cv2.ellipse(blank_img, red_circle, (outer_Radius, outer_Radius), angle, 0, angle, white, thickness)\n",
    "cv2.ellipse(blank_img, green_circle, (outer_Radius, outer_Radius), 360-angle, 0, angle, white, thickness)\n",
    "cv2.ellipse(blank_img, blue_circle, (outer_Radius, outer_Radius), 360-2*angle, angle, 0, white, thickness)\n",
    "\n",
    "plt.imshow(blank_img)"
   ]
  },
  {
   "cell_type": "code",
   "execution_count": 22,
   "metadata": {},
   "outputs": [
    {
     "data": {
      "text/plain": [
       "<matplotlib.image.AxesImage at 0x290477a7668>"
      ]
     },
     "execution_count": 22,
     "metadata": {},
     "output_type": "execute_result"
    },
    {
     "data": {
      "image/png": "[encoded data removed]",
      "text/plain": [
       "<Figure size 432x288 with 1 Axes>"
      ]
     },
     "metadata": {
      "needs_background": "light"
     },
     "output_type": "display_data"
    }
   ],
   "source": [
    "# Method 2 - Utilizing Contours , Circle and ellipse\n",
    "\n",
    "blank_img = 255* np.ones((300, 300, 3), np.uint8)\n",
    "\n",
    "tri_vertex1 = (150, 100)\n",
    "tri_vertex2 = (100, 200)\n",
    "tri_vertex3 = (200, 200)\n",
    "\n",
    "triangle_cnt = np.array( [tri_vertex1, tri_vertex2, tri_vertex3] )\n",
    "\n",
    "cv2.circle(blank_img, tri_vertex1, 40, (0,0,255), -1)\n",
    "cv2.circle(blank_img, tri_vertex2, 40, (0, 255, 0), -1)\n",
    "cv2.circle(blank_img, tri_vertex3, 40, (255,0,0), -1)\n",
    "\n",
    "cv2.circle(blank_img, tri_vertex1, 15, (255,255,255), -1)\n",
    "cv2.circle(blank_img, tri_vertex2, 15, (255,255,255), -1)\n",
    "cv2.circle(blank_img, tri_vertex3, 15, (255,255,255), -1)\n",
    "\n",
    "cv2.drawContours(blank_img, [triangle_cnt], 0, (255,255,255), -1)\n",
    "\n",
    "cv2.ellipse(blank_img, tri_vertex3, (40, 40), 240, 0, 60, (255,255,255), -1)\n",
    "cv2.ellipse(blank_img, tri_vertex3, (40, 40), 180, 0, 60, (255,0,0), -1)\n",
    "cv2.circle(blank_img, tri_vertex3, 15, (255,255,255), -1)\n",
    "\n",
    "plt.imshow(blank_img)"
   ]
  },
  {
   "cell_type": "code",
   "execution_count": 23,
   "metadata": {},
   "outputs": [
    {
     "data": {
      "text/plain": [
       "<matplotlib.image.AxesImage at 0x29047804048>"
      ]
     },
     "execution_count": 23,
     "metadata": {},
     "output_type": "execute_result"
    },
    {
     "data": {
      "image/png": "[encoded data removed]",
      "text/plain": [
       "<Figure size 432x288 with 1 Axes>"
      ]
     },
     "metadata": {
      "needs_background": "light"
     },
     "output_type": "display_data"
    }
   ],
   "source": [
    "# Method 3 - Utilizing Polylines, Circles and Ellipses\n",
    "\n",
    "blank_img = 255* np.ones((300, 300, 3), np.uint8)\n",
    "\n",
    "tri_vertex1 = (150, 100)\n",
    "tri_vertex2 = (100, 200)\n",
    "tri_vertex3 = (200, 200)\n",
    "\n",
    "tri_vertex = np.array( [tri_vertex1, tri_vertex2, tri_vertex3] )\n",
    "cv2.polylines(blank_img, [tri_vertex], isClosed=True, color=(255,255,255), thickness=1)\n",
    "\n",
    "cv2.circle(blank_img, tri_vertex1, 45, (0,0,255), -1)\n",
    "cv2.circle(blank_img, tri_vertex2, 45, (0, 255, 0), -1)\n",
    "cv2.circle(blank_img, tri_vertex3, 45, (255,0,0), -1)\n",
    "\n",
    "cv2.circle(blank_img, tri_vertex1, 15, (255,255,255), -1)\n",
    "cv2.circle(blank_img, tri_vertex2, 15, (255,255,255), -1)\n",
    "cv2.circle(blank_img, tri_vertex3, 15, (255,255,255), -1)\n",
    "\n",
    "cv2.ellipse(blank_img, tri_vertex1, (45, 45), 60, 0, 60, (255,255,255), -1)\n",
    "cv2.ellipse(blank_img, tri_vertex1, (45, 45), 180, 0, 60, (0,0,255), -1)\n",
    "cv2.circle(blank_img, tri_vertex1, 15, (255,255,255), -1)\n",
    "\n",
    "cv2.ellipse(blank_img, tri_vertex2, (45, 45), 300, 0, 60, (255,255,255), -1)\n",
    "cv2.ellipse(blank_img, tri_vertex2, (45, 45), 180, 0, 60, (0,255,0), -1)\n",
    "cv2.circle(blank_img, tri_vertex2, 15, (255,255,255), -1)\n",
    "\n",
    "cv2.ellipse(blank_img, tri_vertex3, (45, 45), 240, 0, 60, (255,255,255), -1)\n",
    "cv2.ellipse(blank_img, tri_vertex3, (45, 45), 180, 0, 60, (255,0,0), -1)\n",
    "cv2.circle(blank_img, tri_vertex3, 15, (255,255,255), -1)\n",
    "\n",
    "plt.imshow(blank_img)"
   ]
  },
  {
   "cell_type": "code",
   "execution_count": null,
   "metadata": {},
   "outputs": [],
   "source": []
  }
 ],
 "metadata": {
  "kernelspec": {
   "display_name": "Python 3",
   "language": "python",
   "name": "python3"
  },
  "language_info": {
   "codemirror_mode": {
    "name": "ipython",
    "version": 3
   },
   "file_extension": ".py",
   "mimetype": "text/x-python",
   "name": "python",
   "nbconvert_exporter": "python",
   "pygments_lexer": "ipython3",
   "version": "3.6.8"
  }
 },
 "nbformat": 4,
 "nbformat_minor": 2
}
